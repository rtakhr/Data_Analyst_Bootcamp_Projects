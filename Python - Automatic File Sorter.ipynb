{
 "cells": [
  {
   "cell_type": "markdown",
   "id": "43d95922",
   "metadata": {},
   "source": [
    "# Automatic File Sorter in File Explorer"
   ]
  },
  {
   "cell_type": "code",
   "execution_count": 1,
   "id": "d849375c",
   "metadata": {},
   "outputs": [],
   "source": [
    "import os, shutil"
   ]
  },
  {
   "cell_type": "code",
   "execution_count": 2,
   "id": "c4988259",
   "metadata": {},
   "outputs": [],
   "source": [
    "path = r\"C:/Users/takhz/Documents/Tutorial/\"\n",
    "\n",
    "file_name = os.listdir(path)"
   ]
  },
  {
   "cell_type": "code",
   "execution_count": null,
   "id": "f44ec6a4",
   "metadata": {},
   "outputs": [],
   "source": [
    "folder_names = ['csv_files', 'images', 'text_files']\n",
    "\n",
    "for loop in range(0, 3):\n",
    "    if not os.path.exists(path + folder_names[loop]):\n",
    "        os.makedirs(path + folder_names[loop])\n",
    "\n",
    "for file in file_name:\n",
    "    if \".csv\" in file and not os.path.exists(path + \"csv_files/\" + file):\n",
    "        shutil.move(path + file, path + \"csv_files/\" + file)\n",
    "    if \".png\" in file and not os.path.exists(path + \"images/\" + file):\n",
    "        shutil.move(path + file, path + \"images/\" + file)\n",
    "    if \".txt\" in file and not os.path.exists(path + \"text_files/\" + file):\n",
    "        shutil.move(path + file, path + \"text_files/\" + file)"
   ]
  }
 ],
 "metadata": {
  "kernelspec": {
   "display_name": "Python 3 (ipykernel)",
   "language": "python",
   "name": "python3"
  },
  "language_info": {
   "codemirror_mode": {
    "name": "ipython",
    "version": 3
   },
   "file_extension": ".py",
   "mimetype": "text/x-python",
   "name": "python",
   "nbconvert_exporter": "python",
   "pygments_lexer": "ipython3",
   "version": "3.10.9"
  }
 },
 "nbformat": 4,
 "nbformat_minor": 5
}
