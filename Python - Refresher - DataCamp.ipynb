{
 "cells": [
  {
   "cell_type": "markdown",
   "id": "5bbdc87d",
   "metadata": {},
   "source": [
    "# 1 Variables"
   ]
  },
  {
   "cell_type": "code",
   "execution_count": 18,
   "id": "42adf1c1",
   "metadata": {},
   "outputs": [
    {
     "name": "stdout",
     "output_type": "stream",
     "text": [
      "22\n"
     ]
    }
   ],
   "source": [
    "x = 22\n",
    "print (x)"
   ]
  },
  {
   "cell_type": "code",
   "execution_count": 5,
   "id": "9e7aeccc",
   "metadata": {},
   "outputs": [
    {
     "data": {
      "text/plain": [
       "int"
      ]
     },
     "execution_count": 5,
     "metadata": {},
     "output_type": "execute_result"
    }
   ],
   "source": [
    "type (x)"
   ]
  },
  {
   "cell_type": "code",
   "execution_count": 19,
   "id": "dab0511c",
   "metadata": {},
   "outputs": [
    {
     "name": "stdout",
     "output_type": "stream",
     "text": [
      "chocolate\n"
     ]
    },
    {
     "data": {
      "text/plain": [
       "str"
      ]
     },
     "execution_count": 19,
     "metadata": {},
     "output_type": "execute_result"
    }
   ],
   "source": [
    "y = 'chocolate'\n",
    "\n",
    "print (y)\n",
    "type (y)"
   ]
  },
  {
   "cell_type": "code",
   "execution_count": 20,
   "id": "ff9b301a",
   "metadata": {},
   "outputs": [
    {
     "name": "stdout",
     "output_type": "stream",
     "text": [
      "Vanilla\n"
     ]
    }
   ],
   "source": [
    "x,y,z = 'Choco', 'Vanilla', 5\n",
    "print (y)"
   ]
  },
  {
   "cell_type": "code",
   "execution_count": 12,
   "id": "5e3a17dc",
   "metadata": {},
   "outputs": [
    {
     "data": {
      "text/plain": [
       "int"
      ]
     },
     "execution_count": 12,
     "metadata": {},
     "output_type": "execute_result"
    }
   ],
   "source": [
    "type (z)"
   ]
  },
  {
   "cell_type": "code",
   "execution_count": 13,
   "id": "273bd0d3",
   "metadata": {},
   "outputs": [
    {
     "name": "stdout",
     "output_type": "stream",
     "text": [
      "Choco\n",
      "Vanilla\n",
      "Strawberry\n"
     ]
    }
   ],
   "source": [
    "ice_cream = ['Choco', 'Vanilla', 'Strawberry']\n",
    "\n",
    "x, y, z = ice_cream\n",
    "\n",
    "print(x)\n",
    "print(y)\n",
    "print(z)"
   ]
  },
  {
   "cell_type": "code",
   "execution_count": 17,
   "id": "8c9fcf5f",
   "metadata": {},
   "outputs": [
    {
     "name": "stdout",
     "output_type": "stream",
     "text": [
      "I want u 2\n",
      "I want u 2\n"
     ]
    }
   ],
   "source": [
    "x = 'I want ' + 'u'\n",
    "y = 2\n",
    "print(x + ' ' + str(y))\n",
    "print(x, y)"
   ]
  },
  {
   "cell_type": "markdown",
   "id": "78c58b5f",
   "metadata": {},
   "source": [
    "# 2 Data Types"
   ]
  },
  {
   "cell_type": "code",
   "execution_count": 1,
   "id": "236e0354",
   "metadata": {},
   "outputs": [
    {
     "data": {
      "text/plain": [
       "float"
      ]
     },
     "execution_count": 1,
     "metadata": {},
     "output_type": "execute_result"
    }
   ],
   "source": [
    "type (1 + 0.4)"
   ]
  },
  {
   "cell_type": "code",
   "execution_count": 2,
   "id": "ae7ad3f3",
   "metadata": {},
   "outputs": [
    {
     "data": {
      "text/plain": [
       "complex"
      ]
     },
     "execution_count": 2,
     "metadata": {},
     "output_type": "execute_result"
    }
   ],
   "source": [
    "type (1 + 3j)"
   ]
  },
  {
   "cell_type": "code",
   "execution_count": 6,
   "id": "6eec064b",
   "metadata": {},
   "outputs": [
    {
     "data": {
      "text/plain": [
       "bool"
      ]
     },
     "execution_count": 6,
     "metadata": {},
     "output_type": "execute_result"
    }
   ],
   "source": [
    "type(True)"
   ]
  },
  {
   "cell_type": "code",
   "execution_count": 7,
   "id": "e35291ca",
   "metadata": {},
   "outputs": [
    {
     "data": {
      "text/plain": [
       "bool"
      ]
     },
     "execution_count": 7,
     "metadata": {},
     "output_type": "execute_result"
    }
   ],
   "source": [
    "type(1>2)"
   ]
  },
  {
   "cell_type": "code",
   "execution_count": 14,
   "id": "a8428c6b",
   "metadata": {},
   "outputs": [],
   "source": [
    "multiline = \"\"\"\n",
    "Winds in serpent sea\n",
    "Exhaling fear to the void\n",
    "As men embrace joy\n",
    "\"\"\""
   ]
  },
  {
   "cell_type": "code",
   "execution_count": 15,
   "id": "77b5db19",
   "metadata": {},
   "outputs": [
    {
     "name": "stdout",
     "output_type": "stream",
     "text": [
      "\n",
      "Winds in serpent sea\n",
      "Exhaling fear to the void\n",
      "As men embrace joy\n",
      "\n"
     ]
    }
   ],
   "source": [
    "print(multiline)"
   ]
  },
  {
   "cell_type": "code",
   "execution_count": 17,
   "id": "d181672c",
   "metadata": {},
   "outputs": [
    {
     "data": {
      "text/plain": [
       "\"A double quote negates the single quote in I'm\""
      ]
     },
     "execution_count": 17,
     "metadata": {},
     "output_type": "execute_result"
    }
   ],
   "source": [
    "\"A double quote negates the single quote in I'm\""
   ]
  },
  {
   "cell_type": "code",
   "execution_count": 27,
   "id": "c3e81b0a",
   "metadata": {},
   "outputs": [
    {
     "name": "stdout",
     "output_type": "stream",
     "text": [
      "Hell\n",
      "o\n",
      "rl\n",
      "Hello WorldHello WorldHello World\n"
     ]
    }
   ],
   "source": [
    "a = 'Hello World'\n",
    "\n",
    "print(a[:4])\n",
    "print(a[4])\n",
    "print(a[-3:-1])\n",
    "print(a*3)"
   ]
  },
  {
   "cell_type": "code",
   "execution_count": 28,
   "id": "5ee24be0",
   "metadata": {},
   "outputs": [
    {
     "name": "stdout",
     "output_type": "stream",
     "text": [
      "[1, 2, 3]\n"
     ]
    }
   ],
   "source": [
    "#list\n",
    "\n",
    "b = [1,2,3]\n",
    "print(b)"
   ]
  },
  {
   "cell_type": "code",
   "execution_count": 29,
   "id": "136a4cd6",
   "metadata": {},
   "outputs": [
    {
     "data": {
      "text/plain": [
       "[1, 'Why', ['What', 'When'], 2]"
      ]
     },
     "execution_count": 29,
     "metadata": {},
     "output_type": "execute_result"
    }
   ],
   "source": [
    "[1, 'Why', ['What', 'When'], 2]"
   ]
  },
  {
   "cell_type": "code",
   "execution_count": 31,
   "id": "a044abe5",
   "metadata": {},
   "outputs": [
    {
     "name": "stdout",
     "output_type": "stream",
     "text": [
      "['Lexi', 'Taffy', 'Omi']\n"
     ]
    }
   ],
   "source": [
    "dogs = ['Lexi', 'Taffy']\n",
    "dogs.append('Omi')\n",
    "print(dogs)"
   ]
  },
  {
   "cell_type": "code",
   "execution_count": 34,
   "id": "73895c89",
   "metadata": {},
   "outputs": [
    {
     "name": "stdout",
     "output_type": "stream",
     "text": [
      "['Pinky', 'Taffy', 'Omi']\n"
     ]
    }
   ],
   "source": [
    "dogs[0] = 'Pinky'\n",
    "print(dogs)"
   ]
  },
  {
   "cell_type": "code",
   "execution_count": 38,
   "id": "171bf529",
   "metadata": {},
   "outputs": [
    {
     "data": {
      "text/plain": [
       "'When'"
      ]
     },
     "execution_count": 38,
     "metadata": {},
     "output_type": "execute_result"
    }
   ],
   "source": [
    "nested_list = [1, 'Why', ['What', 'When'], 2]\n",
    "\n",
    "nested_list[0]\n",
    "nested_list[2]\n",
    "nested_list[2][1]"
   ]
  },
  {
   "cell_type": "code",
   "execution_count": 42,
   "id": "82d454a2",
   "metadata": {},
   "outputs": [
    {
     "data": {
      "text/plain": [
       "tuple"
      ]
     },
     "execution_count": 42,
     "metadata": {},
     "output_type": "execute_result"
    }
   ],
   "source": [
    "#Tuples\n",
    "#cannot be modified after being created\n",
    "\n",
    "tuple_scoops = (1,2,3,2,1)\n",
    "\n",
    "type(tuple_scoops)"
   ]
  },
  {
   "cell_type": "code",
   "execution_count": 43,
   "id": "6f4603c6",
   "metadata": {},
   "outputs": [],
   "source": [
    "#Sets\n",
    "#does not have an index\n",
    "#can be used to compare values of two lists by converting them to sets\n",
    "\n",
    "daily_pints = {1,2,3}"
   ]
  },
  {
   "cell_type": "code",
   "execution_count": 44,
   "id": "9b8e797a",
   "metadata": {},
   "outputs": [
    {
     "data": {
      "text/plain": [
       "set"
      ]
     },
     "execution_count": 44,
     "metadata": {},
     "output_type": "execute_result"
    }
   ],
   "source": [
    "type(daily_pints)"
   ]
  },
  {
   "cell_type": "code",
   "execution_count": 45,
   "id": "645e492b",
   "metadata": {},
   "outputs": [
    {
     "name": "stdout",
     "output_type": "stream",
     "text": [
      "{1, 2, 3, 4, 5, 6, 45, 1231, 2232}\n"
     ]
    }
   ],
   "source": [
    "daily_pints_log = {1,2,4,3,3,3,3,5,2232,1231,45,6}\n",
    "print(daily_pints_log)"
   ]
  },
  {
   "cell_type": "code",
   "execution_count": 46,
   "id": "068c7bb7",
   "metadata": {},
   "outputs": [
    {
     "data": {
      "text/plain": [
       "dict"
      ]
     },
     "execution_count": 46,
     "metadata": {},
     "output_type": "execute_result"
    }
   ],
   "source": [
    "#dictionaries\n",
    "#KEy/Value Pair\n",
    "\n",
    "dict_cream = {'name': 'Raj', 'flavor' : 'Choco', 'scoops': 3}\n",
    "\n",
    "type(dict_cream)"
   ]
  },
  {
   "cell_type": "code",
   "execution_count": 48,
   "id": "6ad7058e",
   "metadata": {},
   "outputs": [
    {
     "data": {
      "text/plain": [
       "dict_keys(['name', 'flavor', 'scoops'])"
      ]
     },
     "execution_count": 48,
     "metadata": {},
     "output_type": "execute_result"
    }
   ],
   "source": [
    "dict_cream.keys()"
   ]
  },
  {
   "cell_type": "code",
   "execution_count": 49,
   "id": "1ca8eff1",
   "metadata": {},
   "outputs": [
    {
     "data": {
      "text/plain": [
       "'Raj'"
      ]
     },
     "execution_count": 49,
     "metadata": {},
     "output_type": "execute_result"
    }
   ],
   "source": [
    "dict_cream['name']"
   ]
  },
  {
   "cell_type": "code",
   "execution_count": 50,
   "id": "e355256f",
   "metadata": {},
   "outputs": [
    {
     "data": {
      "text/plain": [
       "'Sukhraj'"
      ]
     },
     "execution_count": 50,
     "metadata": {},
     "output_type": "execute_result"
    }
   ],
   "source": [
    "dict_cream['name'] = 'Sukhraj'\n",
    "dict_cream['name']"
   ]
  },
  {
   "cell_type": "code",
   "execution_count": 56,
   "id": "cd3b38ca",
   "metadata": {},
   "outputs": [
    {
     "data": {
      "text/plain": [
       "{'name': 'Raj', 'flavor': 'Choco', 'scoops': 3}"
      ]
     },
     "execution_count": 56,
     "metadata": {},
     "output_type": "execute_result"
    }
   ],
   "source": [
    "dict_cream.update({'name': 'Raj', 'flavor' : 'Choco', 'scoops': 3})\n",
    "dict_cream"
   ]
  },
  {
   "cell_type": "code",
   "execution_count": 57,
   "id": "a57f4e74",
   "metadata": {},
   "outputs": [
    {
     "data": {
      "text/plain": [
       "{'name': 'Raj', 'flavor': 'Choco'}"
      ]
     },
     "execution_count": 57,
     "metadata": {},
     "output_type": "execute_result"
    }
   ],
   "source": [
    "del dict_cream['scoops']\n",
    "dict_cream"
   ]
  },
  {
   "cell_type": "markdown",
   "id": "5e5fe2fe",
   "metadata": {},
   "source": [
    "# 3 Comparison Operators"
   ]
  },
  {
   "cell_type": "code",
   "execution_count": 59,
   "id": "e230b53c",
   "metadata": {},
   "outputs": [
    {
     "data": {
      "text/plain": [
       "True"
      ]
     },
     "execution_count": 59,
     "metadata": {},
     "output_type": "execute_result"
    }
   ],
   "source": [
    "# == != < > <= >=\n",
    "# and, or, not\n",
    "# in, not in\n",
    "\n",
    "10 == 10"
   ]
  },
  {
   "cell_type": "code",
   "execution_count": 60,
   "id": "dc8be441",
   "metadata": {},
   "outputs": [
    {
     "data": {
      "text/plain": [
       "False"
      ]
     },
     "execution_count": 60,
     "metadata": {},
     "output_type": "execute_result"
    }
   ],
   "source": [
    "(10 > 50) and (50 > 10)"
   ]
  },
  {
   "cell_type": "code",
   "execution_count": 61,
   "id": "9e1759ba",
   "metadata": {},
   "outputs": [
    {
     "data": {
      "text/plain": [
       "True"
      ]
     },
     "execution_count": 61,
     "metadata": {},
     "output_type": "execute_result"
    }
   ],
   "source": [
    "not ((10 > 50) and (50 > 10))"
   ]
  },
  {
   "cell_type": "code",
   "execution_count": 62,
   "id": "ac4e25da",
   "metadata": {},
   "outputs": [
    {
     "data": {
      "text/plain": [
       "True"
      ]
     },
     "execution_count": 62,
     "metadata": {},
     "output_type": "execute_result"
    }
   ],
   "source": [
    "ice_cream = 'I love ice cream.'\n",
    "\n",
    "'love' in ice_cream"
   ]
  },
  {
   "cell_type": "code",
   "execution_count": 64,
   "id": "493a839f",
   "metadata": {},
   "outputs": [
    {
     "data": {
      "text/plain": [
       "False"
      ]
     },
     "execution_count": 64,
     "metadata": {},
     "output_type": "execute_result"
    }
   ],
   "source": [
    "scoops = [1,2,3,4]\n",
    "wanted_scoops = 6\n",
    "\n",
    "wanted_scoops in scoops"
   ]
  },
  {
   "cell_type": "markdown",
   "id": "9ec0bfaa",
   "metadata": {},
   "source": [
    "# 4 If Else Statements"
   ]
  },
  {
   "cell_type": "code",
   "execution_count": 74,
   "id": "9d0cf7f1",
   "metadata": {},
   "outputs": [
    {
     "name": "stdout",
     "output_type": "stream",
     "text": [
      "uhm\n"
     ]
    }
   ],
   "source": [
    "x = 10\n",
    "\n",
    "if x < 10:\n",
    "    print('wow')\n",
    "elif x == 10:\n",
    "    print('uhm')\n",
    "else:\n",
    "    print('ew')"
   ]
  },
  {
   "cell_type": "code",
   "execution_count": 75,
   "id": "42fa01f9",
   "metadata": {},
   "outputs": [
    {
     "name": "stdout",
     "output_type": "stream",
     "text": [
      "ew\n"
     ]
    }
   ],
   "source": [
    "print('wow') if 10 > 25 else print('ew')"
   ]
  },
  {
   "cell_type": "markdown",
   "id": "c02a7040",
   "metadata": {},
   "source": [
    "# 5 For Loop"
   ]
  },
  {
   "cell_type": "code",
   "execution_count": 12,
   "id": "17dc75ef",
   "metadata": {},
   "outputs": [],
   "source": [
    "integers = [1,2,2,4,5]"
   ]
  },
  {
   "cell_type": "code",
   "execution_count": 13,
   "id": "6397e1cb",
   "metadata": {},
   "outputs": [
    {
     "name": "stdout",
     "output_type": "stream",
     "text": [
      "1\n",
      "2\n",
      "2\n",
      "4\n",
      "5\n"
     ]
    }
   ],
   "source": [
    "for i in integers:\n",
    "    print(i)"
   ]
  },
  {
   "cell_type": "code",
   "execution_count": 3,
   "id": "c6f93c6f",
   "metadata": {},
   "outputs": [],
   "source": [
    "ice_cream_dict = {'name': 'Raj', 'scoops': 5, 'flavors': ['Mint', 'Chocolate']}"
   ]
  },
  {
   "cell_type": "code",
   "execution_count": 8,
   "id": "ac7c1fd8",
   "metadata": {},
   "outputs": [
    {
     "name": "stdout",
     "output_type": "stream",
     "text": [
      "name   Raj\n",
      "scoops   5\n",
      "flavors   ['Mint', 'Chocolate']\n"
     ]
    }
   ],
   "source": [
    "for key, value in ice_cream_dict.items():\n",
    "    print(key, ' ', value)"
   ]
  },
  {
   "cell_type": "code",
   "execution_count": 9,
   "id": "408389c5",
   "metadata": {},
   "outputs": [],
   "source": [
    "#Nested for loops"
   ]
  },
  {
   "cell_type": "code",
   "execution_count": 10,
   "id": "8f0aa497",
   "metadata": {},
   "outputs": [],
   "source": [
    "flavors = ['Vanilla', 'Choco', 'Mint']\n",
    "toppings = ['Fudge', 'Oreo', 'Mallows']"
   ]
  },
  {
   "cell_type": "code",
   "execution_count": 11,
   "id": "8a269869",
   "metadata": {},
   "outputs": [
    {
     "name": "stdout",
     "output_type": "stream",
     "text": [
      "Vanilla topped with Fudge\n",
      "Vanilla topped with Oreo\n",
      "Vanilla topped with Mallows\n",
      "Choco topped with Fudge\n",
      "Choco topped with Oreo\n",
      "Choco topped with Mallows\n",
      "Mint topped with Fudge\n",
      "Mint topped with Oreo\n",
      "Mint topped with Mallows\n"
     ]
    }
   ],
   "source": [
    "for one in flavors:\n",
    "    for two in toppings:\n",
    "        print(one, 'topped with', two)"
   ]
  },
  {
   "cell_type": "markdown",
   "id": "15d0ed35",
   "metadata": {},
   "source": [
    "# 6 While Loops"
   ]
  },
  {
   "cell_type": "code",
   "execution_count": 19,
   "id": "1a83930f",
   "metadata": {},
   "outputs": [
    {
     "name": "stdout",
     "output_type": "stream",
     "text": [
      "1\n",
      "2\n",
      "3\n",
      "4\n",
      "5\n",
      "no longer true\n"
     ]
    }
   ],
   "source": [
    "x = 1\n",
    "while x < 6:\n",
    "    print(x)\n",
    "    if x == 4:\n",
    "        break\n",
    "    x += 1\n",
    "else: #will only work if while checks false, not becasue of breaks\n",
    "    print('no longer true')"
   ]
  },
  {
   "cell_type": "code",
   "execution_count": 21,
   "id": "f0a31197",
   "metadata": {},
   "outputs": [
    {
     "name": "stdout",
     "output_type": "stream",
     "text": [
      "2\n",
      "4\n",
      "5\n",
      "6\n",
      "no longer true\n"
     ]
    }
   ],
   "source": [
    "x = 1\n",
    "while x < 6:\n",
    "    x += 1\n",
    "    if x == 3:\n",
    "        continue\n",
    "    print(x)\n",
    "else:\n",
    "    print('no longer true')"
   ]
  },
  {
   "cell_type": "markdown",
   "id": "17a1bf14",
   "metadata": {},
   "source": [
    "# 7 Functions"
   ]
  },
  {
   "cell_type": "code",
   "execution_count": 22,
   "id": "b1757e75",
   "metadata": {},
   "outputs": [
    {
     "name": "stdout",
     "output_type": "stream",
     "text": [
      "Hello\n"
     ]
    }
   ],
   "source": [
    "def function():\n",
    "    print('Hello')\n",
    "    \n",
    "function()"
   ]
  },
  {
   "cell_type": "code",
   "execution_count": 24,
   "id": "c46b2538",
   "metadata": {},
   "outputs": [
    {
     "name": "stdout",
     "output_type": "stream",
     "text": [
      "9\n"
     ]
    }
   ],
   "source": [
    "def squared_num(x):\n",
    "    print(x**2)\n",
    "\n",
    "squared_num(3)"
   ]
  },
  {
   "cell_type": "code",
   "execution_count": 27,
   "id": "e7e45f55",
   "metadata": {},
   "outputs": [],
   "source": [
    "args_tuple = (5,6,3,2,1)\n",
    "def number_args(*number):\n",
    "    print(number[0]*number[1])    "
   ]
  },
  {
   "cell_type": "code",
   "execution_count": 28,
   "id": "a2871986",
   "metadata": {},
   "outputs": [
    {
     "name": "stdout",
     "output_type": "stream",
     "text": [
      "30\n"
     ]
    }
   ],
   "source": [
    "number_args(*args_tuple)"
   ]
  },
  {
   "cell_type": "markdown",
   "id": "c82752c8",
   "metadata": {},
   "source": [
    "# 8 Converting Data Types"
   ]
  },
  {
   "cell_type": "code",
   "execution_count": 29,
   "id": "24949c3f",
   "metadata": {},
   "outputs": [],
   "source": [
    "num_int = 7\n",
    "num_str = '5'"
   ]
  },
  {
   "cell_type": "code",
   "execution_count": 33,
   "id": "aaaf7bc1",
   "metadata": {},
   "outputs": [
    {
     "name": "stdout",
     "output_type": "stream",
     "text": [
      "12\n"
     ]
    }
   ],
   "source": [
    "num_sum = num_int + int(num_str)\n",
    "print(num_sum)"
   ]
  },
  {
   "cell_type": "code",
   "execution_count": 34,
   "id": "0695db42",
   "metadata": {},
   "outputs": [
    {
     "data": {
      "text/plain": [
       "list"
      ]
     },
     "execution_count": 34,
     "metadata": {},
     "output_type": "execute_result"
    }
   ],
   "source": [
    "list_type = [1,2,3]\n",
    "\n",
    "type(list_type)"
   ]
  },
  {
   "cell_type": "code",
   "execution_count": 35,
   "id": "5e8a8cd3",
   "metadata": {},
   "outputs": [
    {
     "data": {
      "text/plain": [
       "tuple"
      ]
     },
     "execution_count": 35,
     "metadata": {},
     "output_type": "execute_result"
    }
   ],
   "source": [
    "type(tuple(list_type))"
   ]
  },
  {
   "cell_type": "code",
   "execution_count": 38,
   "id": "4a91fa9c",
   "metadata": {},
   "outputs": [
    {
     "data": {
      "text/plain": [
       "['I', ' ', 'l', 'i', 'k', 'e', ' ', 'd', 'o', 'g', 's', '.']"
      ]
     },
     "execution_count": 38,
     "metadata": {},
     "output_type": "execute_result"
    }
   ],
   "source": [
    "sentence = \"I like dogs.\"\n",
    "list(sentence)"
   ]
  },
  {
   "cell_type": "code",
   "execution_count": 39,
   "id": "c49955f4",
   "metadata": {},
   "outputs": [
    {
     "data": {
      "text/plain": [
       "{' ', '.', 'I', 'd', 'e', 'g', 'i', 'k', 'l', 'o', 's'}"
      ]
     },
     "execution_count": 39,
     "metadata": {},
     "output_type": "execute_result"
    }
   ],
   "source": [
    "set(sentence)"
   ]
  },
  {
   "cell_type": "markdown",
   "id": "cc4e9edc",
   "metadata": {},
   "source": [
    "# End"
   ]
  }
 ],
 "metadata": {
  "kernelspec": {
   "display_name": "Python 3 (ipykernel)",
   "language": "python",
   "name": "python3"
  },
  "language_info": {
   "codemirror_mode": {
    "name": "ipython",
    "version": 3
   },
   "file_extension": ".py",
   "mimetype": "text/x-python",
   "name": "python",
   "nbconvert_exporter": "python",
   "pygments_lexer": "ipython3",
   "version": "3.10.9"
  }
 },
 "nbformat": 4,
 "nbformat_minor": 5
}
