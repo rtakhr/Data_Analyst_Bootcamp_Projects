{
 "cells": [
  {
   "cell_type": "markdown",
   "id": "77c3d32d",
   "metadata": {},
   "source": [
    "# BMI Calculator"
   ]
  },
  {
   "cell_type": "code",
   "execution_count": null,
   "id": "08b320eb",
   "metadata": {},
   "outputs": [],
   "source": [
    "#BMI = (weight in pounds * 703) / (height in inches squared)"
   ]
  },
  {
   "cell_type": "code",
   "execution_count": 18,
   "id": "f3085e8c",
   "metadata": {},
   "outputs": [
    {
     "name": "stdout",
     "output_type": "stream",
     "text": [
      "Enter your weight in pounds: 170\n",
      "Enter your heigh in inches: 70\n",
      "Your BMI value is:  24.389795918367348\n",
      "You are normal weight.\n"
     ]
    }
   ],
   "source": [
    "weight = int(input(\"Enter your weight in pounds: \"))\n",
    "height = int(input(\"Enter your heigh in inches: \"))\n",
    "\n",
    "BMI = (weight * 703) / (height * height)\n",
    "\n",
    "print(\"Your BMI value is: \", BMI)\n",
    "\n",
    "if BMI > 0:\n",
    "    if BMI < 18.5:\n",
    "        print(\"You are underweight.\")\n",
    "    elif BMI <= 24.9:\n",
    "        print(\"You are normal weight.\")\n",
    "    elif BMI <= 29.9:\n",
    "        print(\"You are ovwerweight.\")\n",
    "    elif BMI <= 34.9:\n",
    "        print(\"You are obese.\")\n",
    "    elif BMI > 34.9:\n",
    "        print(\"You are severely obese.\")\n",
    "else:\n",
    "    print(\"Invalid input.\")"
   ]
  }
 ],
 "metadata": {
  "kernelspec": {
   "display_name": "Python 3 (ipykernel)",
   "language": "python",
   "name": "python3"
  },
  "language_info": {
   "codemirror_mode": {
    "name": "ipython",
    "version": 3
   },
   "file_extension": ".py",
   "mimetype": "text/x-python",
   "name": "python",
   "nbconvert_exporter": "python",
   "pygments_lexer": "ipython3",
   "version": "3.10.9"
  }
 },
 "nbformat": 4,
 "nbformat_minor": 5
}
